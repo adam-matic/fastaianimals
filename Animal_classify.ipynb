{
  "nbformat": 4,
  "nbformat_minor": 0,
  "metadata": {
    "colab": {
      "name": "Animal classify.ipynb",
      "provenance": [],
      "authorship_tag": "ABX9TyODj58e/Hqo4raCD8lYt5sZ"
    },
    "kernelspec": {
      "name": "python3",
      "display_name": "Python 3"
    },
    "widgets": {
      "application/vnd.jupyter.widget-state+json": {
        "9719f3d96bb94186b8a82608ac30dd71": {
          "model_module": "@jupyter-widgets/controls",
          "model_name": "VBoxModel",
          "state": {
            "_view_name": "VBoxView",
            "_dom_classes": [],
            "_model_name": "VBoxModel",
            "_view_module": "@jupyter-widgets/controls",
            "_model_module_version": "1.5.0",
            "_view_count": null,
            "_view_module_version": "1.5.0",
            "box_style": "",
            "layout": "IPY_MODEL_8d9a614b9ae842cdbbf6dd3d840dda04",
            "_model_module": "@jupyter-widgets/controls",
            "children": [
              "IPY_MODEL_625a7d711dc2459bbccf9f0c090391d7",
              "IPY_MODEL_a5a46ac629b94042a405ddd72d57e713",
              "IPY_MODEL_431b50a0e5254e2b810860947719f0e9",
              "IPY_MODEL_4600d6c5727d4c3dbfa7ac64a5bc6fad"
            ]
          }
        },
        "8d9a614b9ae842cdbbf6dd3d840dda04": {
          "model_module": "@jupyter-widgets/base",
          "model_name": "LayoutModel",
          "state": {
            "_view_name": "LayoutView",
            "grid_template_rows": null,
            "right": null,
            "justify_content": null,
            "_view_module": "@jupyter-widgets/base",
            "overflow": null,
            "_model_module_version": "1.2.0",
            "_view_count": null,
            "flex_flow": null,
            "width": null,
            "min_width": null,
            "border": null,
            "align_items": null,
            "bottom": null,
            "_model_module": "@jupyter-widgets/base",
            "top": null,
            "grid_column": null,
            "overflow_y": null,
            "overflow_x": null,
            "grid_auto_flow": null,
            "grid_area": null,
            "grid_template_columns": null,
            "flex": null,
            "_model_name": "LayoutModel",
            "justify_items": null,
            "grid_row": null,
            "max_height": null,
            "align_content": null,
            "visibility": null,
            "align_self": null,
            "height": null,
            "min_height": null,
            "padding": null,
            "grid_auto_rows": null,
            "grid_gap": null,
            "max_width": null,
            "order": null,
            "_view_module_version": "1.2.0",
            "grid_template_areas": null,
            "object_position": null,
            "object_fit": null,
            "grid_auto_columns": null,
            "margin": null,
            "display": null,
            "left": null
          }
        },
        "625a7d711dc2459bbccf9f0c090391d7": {
          "model_module": "@jupyter-widgets/controls",
          "model_name": "LabelModel",
          "state": {
            "_view_name": "LabelView",
            "style": "IPY_MODEL_b4b61d9de2894d7faf6bb413d8fb45aa",
            "_dom_classes": [],
            "description": "",
            "_model_name": "LabelModel",
            "placeholder": "​",
            "_view_module": "@jupyter-widgets/controls",
            "_model_module_version": "1.5.0",
            "value": "Select your animal!",
            "_view_count": null,
            "_view_module_version": "1.5.0",
            "description_tooltip": null,
            "_model_module": "@jupyter-widgets/controls",
            "layout": "IPY_MODEL_757fd526793042309654f2aed6aea881"
          }
        },
        "a5a46ac629b94042a405ddd72d57e713": {
          "model_module": "@jupyter-widgets/controls",
          "model_name": "FileUploadModel",
          "state": {
            "_view_name": "FileUploadView",
            "_counter": 2,
            "style": "IPY_MODEL_50110a9529f743fb9f91a4780dd54f6a",
            "_dom_classes": [],
            "description": "Upload",
            "multiple": false,
            "_model_name": "FileUploadModel",
            "data": [
              null
            ],
            "button_style": "",
            "_view_module": "@jupyter-widgets/controls",
            "_model_module_version": "1.5.0",
            "accept": "",
            "_view_count": null,
            "disabled": false,
            "_view_module_version": "1.5.0",
            "error": "",
            "description_tooltip": null,
            "metadata": [
              {
                "name": "IMG_20210121_220821.jpg",
                "type": "image/jpeg",
                "size": 76814,
                "lastModified": 1613752742497
              }
            ],
            "_model_module": "@jupyter-widgets/controls",
            "layout": "IPY_MODEL_32e14a0c93cf4a0c905dce211970d0ae",
            "icon": "upload"
          }
        },
        "431b50a0e5254e2b810860947719f0e9": {
          "model_module": "@jupyter-widgets/output",
          "model_name": "OutputModel",
          "state": {
            "_view_name": "OutputView",
            "msg_id": "",
            "_dom_classes": [],
            "_model_name": "OutputModel",
            "outputs": [
              {
                "output_type": "display_data",
                "metadata": {
                  "tags": []
                },
                "image/png": "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\n",
                "text/plain": "<PIL.Image.Image image mode=RGB size=128x96 at 0x7FB3ED5752B0>"
              }
            ],
            "_view_module": "@jupyter-widgets/output",
            "_model_module_version": "1.0.0",
            "_view_count": null,
            "_view_module_version": "1.0.0",
            "layout": "IPY_MODEL_f80eda263428418197ead255991a9cc8",
            "_model_module": "@jupyter-widgets/output"
          }
        },
        "4600d6c5727d4c3dbfa7ac64a5bc6fad": {
          "model_module": "@jupyter-widgets/controls",
          "model_name": "LabelModel",
          "state": {
            "_view_name": "LabelView",
            "style": "IPY_MODEL_d81a90d6d40b40c180ee9b4505d1e82e",
            "_dom_classes": [],
            "description": "",
            "_model_name": "LabelModel",
            "placeholder": "​",
            "_view_module": "@jupyter-widgets/controls",
            "_model_module_version": "1.5.0",
            "value": "Prediction: cat; Probability: 0.9930",
            "_view_count": null,
            "_view_module_version": "1.5.0",
            "description_tooltip": null,
            "_model_module": "@jupyter-widgets/controls",
            "layout": "IPY_MODEL_8dd6fba251844314832bb4e7ef2f20d6"
          }
        },
        "b4b61d9de2894d7faf6bb413d8fb45aa": {
          "model_module": "@jupyter-widgets/controls",
          "model_name": "DescriptionStyleModel",
          "state": {
            "_view_name": "StyleView",
            "_model_name": "DescriptionStyleModel",
            "description_width": "",
            "_view_module": "@jupyter-widgets/base",
            "_model_module_version": "1.5.0",
            "_view_count": null,
            "_view_module_version": "1.2.0",
            "_model_module": "@jupyter-widgets/controls"
          }
        },
        "757fd526793042309654f2aed6aea881": {
          "model_module": "@jupyter-widgets/base",
          "model_name": "LayoutModel",
          "state": {
            "_view_name": "LayoutView",
            "grid_template_rows": null,
            "right": null,
            "justify_content": null,
            "_view_module": "@jupyter-widgets/base",
            "overflow": null,
            "_model_module_version": "1.2.0",
            "_view_count": null,
            "flex_flow": null,
            "width": null,
            "min_width": null,
            "border": null,
            "align_items": null,
            "bottom": null,
            "_model_module": "@jupyter-widgets/base",
            "top": null,
            "grid_column": null,
            "overflow_y": null,
            "overflow_x": null,
            "grid_auto_flow": null,
            "grid_area": null,
            "grid_template_columns": null,
            "flex": null,
            "_model_name": "LayoutModel",
            "justify_items": null,
            "grid_row": null,
            "max_height": null,
            "align_content": null,
            "visibility": null,
            "align_self": null,
            "height": null,
            "min_height": null,
            "padding": null,
            "grid_auto_rows": null,
            "grid_gap": null,
            "max_width": null,
            "order": null,
            "_view_module_version": "1.2.0",
            "grid_template_areas": null,
            "object_position": null,
            "object_fit": null,
            "grid_auto_columns": null,
            "margin": null,
            "display": null,
            "left": null
          }
        },
        "50110a9529f743fb9f91a4780dd54f6a": {
          "model_module": "@jupyter-widgets/controls",
          "model_name": "ButtonStyleModel",
          "state": {
            "_view_name": "StyleView",
            "_model_name": "ButtonStyleModel",
            "_view_module": "@jupyter-widgets/base",
            "_model_module_version": "1.5.0",
            "_view_count": null,
            "button_color": null,
            "font_weight": "",
            "_view_module_version": "1.2.0",
            "_model_module": "@jupyter-widgets/controls"
          }
        },
        "32e14a0c93cf4a0c905dce211970d0ae": {
          "model_module": "@jupyter-widgets/base",
          "model_name": "LayoutModel",
          "state": {
            "_view_name": "LayoutView",
            "grid_template_rows": null,
            "right": null,
            "justify_content": null,
            "_view_module": "@jupyter-widgets/base",
            "overflow": null,
            "_model_module_version": "1.2.0",
            "_view_count": null,
            "flex_flow": null,
            "width": null,
            "min_width": null,
            "border": null,
            "align_items": null,
            "bottom": null,
            "_model_module": "@jupyter-widgets/base",
            "top": null,
            "grid_column": null,
            "overflow_y": null,
            "overflow_x": null,
            "grid_auto_flow": null,
            "grid_area": null,
            "grid_template_columns": null,
            "flex": null,
            "_model_name": "LayoutModel",
            "justify_items": null,
            "grid_row": null,
            "max_height": null,
            "align_content": null,
            "visibility": null,
            "align_self": null,
            "height": null,
            "min_height": null,
            "padding": null,
            "grid_auto_rows": null,
            "grid_gap": null,
            "max_width": null,
            "order": null,
            "_view_module_version": "1.2.0",
            "grid_template_areas": null,
            "object_position": null,
            "object_fit": null,
            "grid_auto_columns": null,
            "margin": null,
            "display": null,
            "left": null
          }
        },
        "d81a90d6d40b40c180ee9b4505d1e82e": {
          "model_module": "@jupyter-widgets/controls",
          "model_name": "DescriptionStyleModel",
          "state": {
            "_view_name": "StyleView",
            "_model_name": "DescriptionStyleModel",
            "description_width": "",
            "_view_module": "@jupyter-widgets/base",
            "_model_module_version": "1.5.0",
            "_view_count": null,
            "_view_module_version": "1.2.0",
            "_model_module": "@jupyter-widgets/controls"
          }
        },
        "8dd6fba251844314832bb4e7ef2f20d6": {
          "model_module": "@jupyter-widgets/base",
          "model_name": "LayoutModel",
          "state": {
            "_view_name": "LayoutView",
            "grid_template_rows": null,
            "right": null,
            "justify_content": null,
            "_view_module": "@jupyter-widgets/base",
            "overflow": null,
            "_model_module_version": "1.2.0",
            "_view_count": null,
            "flex_flow": null,
            "width": null,
            "min_width": null,
            "border": null,
            "align_items": null,
            "bottom": null,
            "_model_module": "@jupyter-widgets/base",
            "top": null,
            "grid_column": null,
            "overflow_y": null,
            "overflow_x": null,
            "grid_auto_flow": null,
            "grid_area": null,
            "grid_template_columns": null,
            "flex": null,
            "_model_name": "LayoutModel",
            "justify_items": null,
            "grid_row": null,
            "max_height": null,
            "align_content": null,
            "visibility": null,
            "align_self": null,
            "height": null,
            "min_height": null,
            "padding": null,
            "grid_auto_rows": null,
            "grid_gap": null,
            "max_width": null,
            "order": null,
            "_view_module_version": "1.2.0",
            "grid_template_areas": null,
            "object_position": null,
            "object_fit": null,
            "grid_auto_columns": null,
            "margin": null,
            "display": null,
            "left": null
          }
        },
        "f80eda263428418197ead255991a9cc8": {
          "model_module": "@jupyter-widgets/base",
          "model_name": "LayoutModel",
          "state": {
            "_view_name": "LayoutView",
            "grid_template_rows": null,
            "right": null,
            "justify_content": null,
            "_view_module": "@jupyter-widgets/base",
            "overflow": null,
            "_model_module_version": "1.2.0",
            "_view_count": null,
            "flex_flow": null,
            "width": null,
            "min_width": null,
            "border": null,
            "align_items": null,
            "bottom": null,
            "_model_module": "@jupyter-widgets/base",
            "top": null,
            "grid_column": null,
            "overflow_y": null,
            "overflow_x": null,
            "grid_auto_flow": null,
            "grid_area": null,
            "grid_template_columns": null,
            "flex": null,
            "_model_name": "LayoutModel",
            "justify_items": null,
            "grid_row": null,
            "max_height": null,
            "align_content": null,
            "visibility": null,
            "align_self": null,
            "height": null,
            "min_height": null,
            "padding": null,
            "grid_auto_rows": null,
            "grid_gap": null,
            "max_width": null,
            "order": null,
            "_view_module_version": "1.2.0",
            "grid_template_areas": null,
            "object_position": null,
            "object_fit": null,
            "grid_auto_columns": null,
            "margin": null,
            "display": null,
            "left": null
          }
        }
      }
    },
    "accelerator": "GPU"
  },
  "cells": [
    {
      "cell_type": "code",
      "metadata": {
        "id": "Ms7wZwJPN9-S"
      },
      "source": [
        "#!pip install fastai --upgrade"
      ],
      "execution_count": null,
      "outputs": []
    },
    {
      "cell_type": "code",
      "metadata": {
        "id": "MioLwFHVKP80"
      },
      "source": [
        "from fastai.vision.all import *\r\n",
        "from fastai.vision.widgets import *"
      ],
      "execution_count": 1,
      "outputs": []
    },
    {
      "cell_type": "code",
      "metadata": {
        "colab": {
          "base_uri": "https://localhost:8080/",
          "height": 209,
          "referenced_widgets": [
            "9719f3d96bb94186b8a82608ac30dd71",
            "8d9a614b9ae842cdbbf6dd3d840dda04",
            "625a7d711dc2459bbccf9f0c090391d7",
            "a5a46ac629b94042a405ddd72d57e713",
            "431b50a0e5254e2b810860947719f0e9",
            "4600d6c5727d4c3dbfa7ac64a5bc6fad",
            "b4b61d9de2894d7faf6bb413d8fb45aa",
            "757fd526793042309654f2aed6aea881",
            "50110a9529f743fb9f91a4780dd54f6a",
            "32e14a0c93cf4a0c905dce211970d0ae",
            "d81a90d6d40b40c180ee9b4505d1e82e",
            "8dd6fba251844314832bb4e7ef2f20d6",
            "f80eda263428418197ead255991a9cc8"
          ]
        },
        "id": "L0W96sb9Hb2O",
        "outputId": "4445aaf7-fc9f-4190-e4ce-38054952a97b"
      },
      "source": [
        "path = Path()\r\n",
        "learn_inf = load_learner(path/'animals_model.pkl')\r\n",
        "\r\n",
        "btn_upload = widgets.FileUpload()\r\n",
        "out_pl = widgets.Output()\r\n",
        "lbl_pred = widgets.Label()\r\n",
        "\r\n",
        "def on_upload_change(change):\r\n",
        "  img = PILImage.create(btn_upload.data[-1])\r\n",
        "  out_pl.clear_output()\r\n",
        "  with out_pl: display(img.to_thumb(128, 128))\r\n",
        "  pred,pred_idx,probs = learn_inf.predict(img)\r\n",
        "  lbl_pred.value = f'Prediction: {pred}; Probability: {probs[pred_idx]:.04f}'\r\n",
        "\r\n",
        "btn_upload.observe(on_upload_change, names=['data'])\r\n",
        "\r\n",
        "VBox([widgets.Label('Select your animal!'), \r\n",
        "      btn_upload, \r\n",
        "      out_pl, \r\n",
        "      lbl_pred])\r\n"
      ],
      "execution_count": 2,
      "outputs": [
        {
          "output_type": "display_data",
          "data": {
            "application/vnd.jupyter.widget-view+json": {
              "model_id": "9719f3d96bb94186b8a82608ac30dd71",
              "version_minor": 0,
              "version_major": 2
            },
            "text/plain": [
              "VBox(children=(Label(value='Select your animal!'), FileUpload(value={}, description='Upload'), Output(), Label…"
            ]
          },
          "metadata": {
            "tags": []
          }
        },
        {
          "output_type": "display_data",
          "data": {
            "text/html": [
              ""
            ],
            "text/plain": [
              "<IPython.core.display.HTML object>"
            ]
          },
          "metadata": {
            "tags": []
          }
        }
      ]
    }
  ]
}